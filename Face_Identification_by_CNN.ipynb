{
  "nbformat": 4,
  "nbformat_minor": 0,
  "metadata": {
    "colab": {
      "provenance": []
    },
    "kernelspec": {
      "name": "python3",
      "display_name": "Python 3"
    },
    "language_info": {
      "name": "python"
    },
    "accelerator": "GPU",
    "gpuClass": "standard"
  },
  "cells": [
    {
      "cell_type": "code",
      "execution_count": null,
      "metadata": {
        "id": "p8B8t_NqkIPY",
        "colab": {
          "base_uri": "https://localhost:8080/"
        },
        "outputId": "d032aeaf-281d-4ab3-c85d-58bd03614933"
      },
      "outputs": [
        {
          "output_type": "stream",
          "name": "stdout",
          "text": [
            "Looking in indexes: https://pypi.org/simple, https://us-python.pkg.dev/colab-wheels/public/simple/\n",
            "Requirement already satisfied: gdown in /usr/local/lib/python3.8/dist-packages (4.4.0)\n",
            "Requirement already satisfied: beautifulsoup4 in /usr/local/lib/python3.8/dist-packages (from gdown) (4.6.3)\n",
            "Requirement already satisfied: six in /usr/local/lib/python3.8/dist-packages (from gdown) (1.15.0)\n",
            "Requirement already satisfied: requests[socks] in /usr/local/lib/python3.8/dist-packages (from gdown) (2.23.0)\n",
            "Requirement already satisfied: filelock in /usr/local/lib/python3.8/dist-packages (from gdown) (3.8.0)\n",
            "Requirement already satisfied: tqdm in /usr/local/lib/python3.8/dist-packages (from gdown) (4.64.1)\n",
            "Requirement already satisfied: urllib3!=1.25.0,!=1.25.1,<1.26,>=1.21.1 in /usr/local/lib/python3.8/dist-packages (from requests[socks]->gdown) (1.24.3)\n",
            "Requirement already satisfied: certifi>=2017.4.17 in /usr/local/lib/python3.8/dist-packages (from requests[socks]->gdown) (2022.9.24)\n",
            "Requirement already satisfied: idna<3,>=2.5 in /usr/local/lib/python3.8/dist-packages (from requests[socks]->gdown) (2.10)\n",
            "Requirement already satisfied: chardet<4,>=3.0.2 in /usr/local/lib/python3.8/dist-packages (from requests[socks]->gdown) (3.0.4)\n",
            "Requirement already satisfied: PySocks!=1.5.7,>=1.5.6 in /usr/local/lib/python3.8/dist-packages (from requests[socks]->gdown) (1.7.1)\n"
          ]
        }
      ],
      "source": [
        "!pip install gdown\n",
        "import os"
      ]
    },
    {
      "cell_type": "code",
      "source": [
        "!gdown https://drive.google.com/uc?id=1Sg2Jn5Efmc8oT7WzhwK22SMKcmIbE3-Q"
      ],
      "metadata": {
        "colab": {
          "base_uri": "https://localhost:8080/"
        },
        "id": "NHCeAfOJsSM5",
        "outputId": "24f3e0fa-8f66-48c8-e5a2-412d7b466214"
      },
      "execution_count": null,
      "outputs": [
        {
          "output_type": "stream",
          "name": "stdout",
          "text": [
            "Downloading...\n",
            "From: https://drive.google.com/uc?id=1Sg2Jn5Efmc8oT7WzhwK22SMKcmIbE3-Q\n",
            "To: /content/dataset.zip\n",
            "\r  0% 0.00/23.3M [00:00<?, ?B/s]\r 74% 17.3M/23.3M [00:00<00:00, 171MB/s]\r100% 23.3M/23.3M [00:00<00:00, 196MB/s]\n"
          ]
        }
      ]
    },
    {
      "cell_type": "code",
      "source": [
        "#melakukan extract zip\n",
        "import zipfile\n",
        "zip_file = zipfile.ZipFile('/content/dataset.zip')\n",
        "zip_file.extractall('/content/latihan')\n",
        "import os\n",
        "try:\n",
        "  os.mkdir('latihan')\n",
        "except:\n",
        "  print('path exist')\n",
        "\n"
      ],
      "metadata": {
        "colab": {
          "base_uri": "https://localhost:8080/"
        },
        "id": "s-mbXedPspyM",
        "outputId": "67418f82-f018-475b-8518-50f46fba8f8f"
      },
      "execution_count": null,
      "outputs": [
        {
          "output_type": "stream",
          "name": "stdout",
          "text": [
            "path exist\n"
          ]
        }
      ]
    },
    {
      "cell_type": "code",
      "source": [
        "import numpy as np\n",
        "import tensorflow as tf\n",
        "from keras.models import Model\n",
        "from keras.layers import Input, Activation, Dense, Conv2D, MaxPooling2D, ZeroPadding2D, Flatten\n",
        "from keras.preprocessing.image import ImageDataGenerator\n",
        "from keras.optimizers import Adam\n",
        "from keras.callbacks import TensorBoard\n",
        "\n",
        "# Images Dimensions\n",
        "img_width, img_height = 128, 128\n",
        "\n",
        "train_data_dir = 'latihan/train'\n",
        "validation_data_dir = 'latihan/validation'\n",
        "nb_train_samples = 800\n",
        "nb_validation_samples = 240\n",
        "epochs = 50\n",
        "batch_size = 16\n",
        "\n",
        "# TensorBoard Callbacks\n",
        "callbacks = TensorBoard(log_dir='./Graph')"
      ],
      "metadata": {
        "id": "FuLhSAa2PHUV"
      },
      "execution_count": null,
      "outputs": []
    },
    {
      "cell_type": "code",
      "source": [
        "# Training Data Augmentation\n",
        "train_datagen = ImageDataGenerator(\n",
        "    rescale=1. / 255,\n",
        "    shear_range=0.2,\n",
        "    zoom_range=0.2,\n",
        "    horizontal_flip=True)\n",
        "\n",
        "# Rescale Testing Data\n",
        "test_datagen = ImageDataGenerator(rescale=1. / 255)\n",
        "\n",
        "# Train Data Generator\n",
        "train_generator = train_datagen.flow_from_directory(\n",
        "    train_data_dir,\n",
        "    target_size=(img_width, img_height),\n",
        "    batch_size=batch_size,\n",
        "    class_mode='binary')\n",
        "\n",
        "# Testing Data Generator\n",
        "validation_generator = test_datagen.flow_from_directory(\n",
        "    validation_data_dir,\n",
        "    target_size=(img_width, img_height),\n",
        "    batch_size=batch_size,\n",
        "    class_mode='binary')"
      ],
      "metadata": {
        "colab": {
          "base_uri": "https://localhost:8080/"
        },
        "id": "qWrEFleRPYLc",
        "outputId": "6fee5df3-67ef-4a71-b4f8-619276a6c6cc"
      },
      "execution_count": null,
      "outputs": [
        {
          "output_type": "stream",
          "name": "stdout",
          "text": [
            "Found 800 images belonging to 2 classes.\n",
            "Found 240 images belonging to 2 classes.\n"
          ]
        }
      ]
    },
    {
      "cell_type": "code",
      "source": [
        "# Feature Extraction Layer\n",
        "inputs = Input(shape=(img_width, img_height, 3))\n",
        "conv_layer = Conv2D(16, (5, 5), strides=(3,3), activation='relu')(inputs) \n",
        "conv_layer = ZeroPadding2D(padding=(1,1))(conv_layer) \n",
        "conv_layer = Conv2D(32, (5, 5), strides=(3,3), activation='relu')(conv_layer) \n",
        "conv_layer = MaxPooling2D((2, 2))(conv_layer) \n",
        "conv_layer = Conv2D(64, (3, 3), strides=(1,1), activation='relu')(conv_layer) \n",
        "conv_layer = Conv2D(64, (3, 3), strides=(1,1), activation='relu')(conv_layer)\n",
        "\n",
        "# Flatten Layer\n",
        "flatten = Flatten()(conv_layer) \n",
        "\n",
        "# Fully Connected Layer\n",
        "fc_layer = Dense(32, activation='relu')(flatten)\n",
        "outputs = Dense(1, activation='sigmoid')(fc_layer)\n",
        "\n",
        "model = Model(inputs=inputs, outputs=outputs)\n",
        "\n",
        "# Adam Optimizer and Cross Entropy Loss\n",
        "adam = Adam(lr=0.0001)\n",
        "model.compile(optimizer=adam, loss='binary_crossentropy', metrics=['accuracy'])\n",
        "\n",
        "# Print Model Summary\n",
        "print(model.summary())\n",
        "\n",
        "model.fit_generator(\n",
        "    train_generator,\n",
        "    steps_per_epoch=nb_train_samples // batch_size,\n",
        "    epochs=epochs,\n",
        "    validation_data=validation_generator,\n",
        "    validation_steps=nb_validation_samples // batch_size, \n",
        "    callbacks=[callbacks])\n",
        "\n",
        "model.save_weights('kornet.h5')"
      ],
      "metadata": {
        "colab": {
          "base_uri": "https://localhost:8080/"
        },
        "id": "7bap00d4PeXE",
        "outputId": "b48ef46d-b4b1-4a15-cb5f-f90bed976174"
      },
      "execution_count": null,
      "outputs": [
        {
          "output_type": "stream",
          "name": "stdout",
          "text": [
            "Model: \"model\"\n",
            "_________________________________________________________________\n",
            " Layer (type)                Output Shape              Param #   \n",
            "=================================================================\n",
            " input_1 (InputLayer)        [(None, 128, 128, 3)]     0         \n",
            "                                                                 \n",
            " conv2d (Conv2D)             (None, 42, 42, 16)        1216      \n",
            "                                                                 \n",
            " zero_padding2d (ZeroPadding  (None, 44, 44, 16)       0         \n",
            " 2D)                                                             \n",
            "                                                                 \n",
            " conv2d_1 (Conv2D)           (None, 14, 14, 32)        12832     \n",
            "                                                                 \n",
            " max_pooling2d (MaxPooling2D  (None, 7, 7, 32)         0         \n",
            " )                                                               \n",
            "                                                                 \n",
            " conv2d_2 (Conv2D)           (None, 5, 5, 64)          18496     \n",
            "                                                                 \n",
            " conv2d_3 (Conv2D)           (None, 3, 3, 64)          36928     \n",
            "                                                                 \n",
            " flatten (Flatten)           (None, 576)               0         \n",
            "                                                                 \n",
            " dense (Dense)               (None, 32)                18464     \n",
            "                                                                 \n",
            " dense_1 (Dense)             (None, 1)                 33        \n",
            "                                                                 \n",
            "=================================================================\n",
            "Total params: 87,969\n",
            "Trainable params: 87,969\n",
            "Non-trainable params: 0\n",
            "_________________________________________________________________\n"
          ]
        },
        {
          "output_type": "stream",
          "name": "stderr",
          "text": [
            "/usr/local/lib/python3.8/dist-packages/keras/optimizers/optimizer_v2/adam.py:110: UserWarning: The `lr` argument is deprecated, use `learning_rate` instead.\n",
            "  super(Adam, self).__init__(name, **kwargs)\n",
            "<ipython-input-7-e8541938b081>:26: UserWarning: `Model.fit_generator` is deprecated and will be removed in a future version. Please use `Model.fit`, which supports generators.\n",
            "  model.fit_generator(\n"
          ]
        },
        {
          "output_type": "stream",
          "name": "stdout",
          "text": [
            "None\n",
            "Epoch 1/50\n",
            "50/50 [==============================] - 13s 92ms/step - loss: 0.6919 - accuracy: 0.5387 - val_loss: 0.6904 - val_accuracy: 0.5500\n",
            "Epoch 2/50\n",
            "50/50 [==============================] - 4s 86ms/step - loss: 0.6863 - accuracy: 0.6000 - val_loss: 0.6841 - val_accuracy: 0.5958\n",
            "Epoch 3/50\n",
            "50/50 [==============================] - 4s 87ms/step - loss: 0.6723 - accuracy: 0.6438 - val_loss: 0.6724 - val_accuracy: 0.5542\n",
            "Epoch 4/50\n",
            "50/50 [==============================] - 4s 88ms/step - loss: 0.6458 - accuracy: 0.6325 - val_loss: 0.6589 - val_accuracy: 0.6125\n",
            "Epoch 5/50\n",
            "50/50 [==============================] - 4s 89ms/step - loss: 0.6273 - accuracy: 0.6538 - val_loss: 0.6547 - val_accuracy: 0.6000\n",
            "Epoch 6/50\n",
            "50/50 [==============================] - 4s 88ms/step - loss: 0.6076 - accuracy: 0.6675 - val_loss: 0.6350 - val_accuracy: 0.6208\n",
            "Epoch 7/50\n",
            "50/50 [==============================] - 4s 87ms/step - loss: 0.5888 - accuracy: 0.6988 - val_loss: 0.6299 - val_accuracy: 0.6333\n",
            "Epoch 8/50\n",
            "50/50 [==============================] - 4s 87ms/step - loss: 0.5734 - accuracy: 0.7050 - val_loss: 0.6174 - val_accuracy: 0.6708\n",
            "Epoch 9/50\n",
            "50/50 [==============================] - 5s 92ms/step - loss: 0.5670 - accuracy: 0.7275 - val_loss: 0.6069 - val_accuracy: 0.6833\n",
            "Epoch 10/50\n",
            "50/50 [==============================] - 4s 87ms/step - loss: 0.5373 - accuracy: 0.7462 - val_loss: 0.6106 - val_accuracy: 0.6667\n",
            "Epoch 11/50\n",
            "50/50 [==============================] - 4s 87ms/step - loss: 0.5346 - accuracy: 0.7475 - val_loss: 0.5882 - val_accuracy: 0.6875\n",
            "Epoch 12/50\n",
            "50/50 [==============================] - 4s 89ms/step - loss: 0.5147 - accuracy: 0.7663 - val_loss: 0.5845 - val_accuracy: 0.6958\n",
            "Epoch 13/50\n",
            "50/50 [==============================] - 4s 86ms/step - loss: 0.5041 - accuracy: 0.7625 - val_loss: 0.5677 - val_accuracy: 0.6958\n",
            "Epoch 14/50\n",
            "50/50 [==============================] - 4s 88ms/step - loss: 0.5068 - accuracy: 0.7588 - val_loss: 0.5651 - val_accuracy: 0.7208\n",
            "Epoch 15/50\n",
            "50/50 [==============================] - 4s 87ms/step - loss: 0.4809 - accuracy: 0.7763 - val_loss: 0.5882 - val_accuracy: 0.6750\n",
            "Epoch 16/50\n",
            "50/50 [==============================] - 4s 87ms/step - loss: 0.4758 - accuracy: 0.7875 - val_loss: 0.5643 - val_accuracy: 0.6917\n",
            "Epoch 17/50\n",
            "50/50 [==============================] - 5s 106ms/step - loss: 0.4643 - accuracy: 0.7788 - val_loss: 0.5578 - val_accuracy: 0.6833\n",
            "Epoch 18/50\n",
            "50/50 [==============================] - 4s 86ms/step - loss: 0.4731 - accuracy: 0.7713 - val_loss: 0.5365 - val_accuracy: 0.7208\n",
            "Epoch 19/50\n",
            "50/50 [==============================] - 4s 90ms/step - loss: 0.4509 - accuracy: 0.7800 - val_loss: 0.5453 - val_accuracy: 0.7250\n",
            "Epoch 20/50\n",
            "50/50 [==============================] - 4s 86ms/step - loss: 0.4563 - accuracy: 0.7825 - val_loss: 0.5391 - val_accuracy: 0.7125\n",
            "Epoch 21/50\n",
            "50/50 [==============================] - 4s 87ms/step - loss: 0.4343 - accuracy: 0.7975 - val_loss: 0.5326 - val_accuracy: 0.7375\n",
            "Epoch 22/50\n",
            "50/50 [==============================] - 4s 88ms/step - loss: 0.4284 - accuracy: 0.8062 - val_loss: 0.5469 - val_accuracy: 0.7250\n",
            "Epoch 23/50\n",
            "50/50 [==============================] - 4s 86ms/step - loss: 0.4256 - accuracy: 0.7987 - val_loss: 0.5258 - val_accuracy: 0.7417\n",
            "Epoch 24/50\n",
            "50/50 [==============================] - 5s 103ms/step - loss: 0.4223 - accuracy: 0.8025 - val_loss: 0.5388 - val_accuracy: 0.7208\n",
            "Epoch 25/50\n",
            "50/50 [==============================] - 4s 87ms/step - loss: 0.4231 - accuracy: 0.8000 - val_loss: 0.5322 - val_accuracy: 0.7208\n",
            "Epoch 26/50\n",
            "50/50 [==============================] - 4s 88ms/step - loss: 0.4168 - accuracy: 0.7975 - val_loss: 0.5172 - val_accuracy: 0.7333\n",
            "Epoch 27/50\n",
            "50/50 [==============================] - 4s 87ms/step - loss: 0.3832 - accuracy: 0.8300 - val_loss: 0.5126 - val_accuracy: 0.7417\n",
            "Epoch 28/50\n",
            "50/50 [==============================] - 4s 87ms/step - loss: 0.3819 - accuracy: 0.8325 - val_loss: 0.5154 - val_accuracy: 0.7375\n",
            "Epoch 29/50\n",
            "50/50 [==============================] - 4s 86ms/step - loss: 0.3764 - accuracy: 0.8338 - val_loss: 0.5533 - val_accuracy: 0.7292\n",
            "Epoch 30/50\n",
            "50/50 [==============================] - 4s 87ms/step - loss: 0.3769 - accuracy: 0.8338 - val_loss: 0.5369 - val_accuracy: 0.7208\n",
            "Epoch 31/50\n",
            "50/50 [==============================] - 4s 87ms/step - loss: 0.3823 - accuracy: 0.8225 - val_loss: 0.4974 - val_accuracy: 0.7500\n",
            "Epoch 32/50\n",
            "50/50 [==============================] - 4s 87ms/step - loss: 0.3679 - accuracy: 0.8438 - val_loss: 0.4864 - val_accuracy: 0.7542\n",
            "Epoch 33/50\n",
            "50/50 [==============================] - 4s 88ms/step - loss: 0.3618 - accuracy: 0.8413 - val_loss: 0.5158 - val_accuracy: 0.7417\n",
            "Epoch 34/50\n",
            "50/50 [==============================] - 4s 86ms/step - loss: 0.3532 - accuracy: 0.8650 - val_loss: 0.5354 - val_accuracy: 0.7500\n",
            "Epoch 35/50\n",
            "50/50 [==============================] - 4s 88ms/step - loss: 0.3455 - accuracy: 0.8425 - val_loss: 0.5362 - val_accuracy: 0.7375\n",
            "Epoch 36/50\n",
            "50/50 [==============================] - 4s 86ms/step - loss: 0.3473 - accuracy: 0.8500 - val_loss: 0.4794 - val_accuracy: 0.7708\n",
            "Epoch 37/50\n",
            "50/50 [==============================] - 4s 87ms/step - loss: 0.3324 - accuracy: 0.8575 - val_loss: 0.4901 - val_accuracy: 0.7667\n",
            "Epoch 38/50\n",
            "50/50 [==============================] - 4s 86ms/step - loss: 0.3388 - accuracy: 0.8575 - val_loss: 0.5091 - val_accuracy: 0.7333\n",
            "Epoch 39/50\n",
            "50/50 [==============================] - 4s 87ms/step - loss: 0.3285 - accuracy: 0.8512 - val_loss: 0.5182 - val_accuracy: 0.7417\n",
            "Epoch 40/50\n",
            "50/50 [==============================] - 4s 89ms/step - loss: 0.3264 - accuracy: 0.8662 - val_loss: 0.4959 - val_accuracy: 0.7458\n",
            "Epoch 41/50\n",
            "50/50 [==============================] - 4s 89ms/step - loss: 0.3125 - accuracy: 0.8662 - val_loss: 0.5292 - val_accuracy: 0.7417\n",
            "Epoch 42/50\n",
            "50/50 [==============================] - 4s 88ms/step - loss: 0.3208 - accuracy: 0.8687 - val_loss: 0.4738 - val_accuracy: 0.7792\n",
            "Epoch 43/50\n",
            "50/50 [==============================] - 4s 88ms/step - loss: 0.3035 - accuracy: 0.8687 - val_loss: 0.4670 - val_accuracy: 0.7917\n",
            "Epoch 44/50\n",
            "50/50 [==============================] - 4s 88ms/step - loss: 0.2944 - accuracy: 0.8838 - val_loss: 0.4564 - val_accuracy: 0.8042\n",
            "Epoch 45/50\n",
            "50/50 [==============================] - 4s 86ms/step - loss: 0.2918 - accuracy: 0.8863 - val_loss: 0.4590 - val_accuracy: 0.7958\n",
            "Epoch 46/50\n",
            "50/50 [==============================] - 4s 87ms/step - loss: 0.2855 - accuracy: 0.8775 - val_loss: 0.4685 - val_accuracy: 0.7833\n",
            "Epoch 47/50\n",
            "50/50 [==============================] - 4s 88ms/step - loss: 0.2811 - accuracy: 0.8938 - val_loss: 0.4812 - val_accuracy: 0.7667\n",
            "Epoch 48/50\n",
            "50/50 [==============================] - 4s 89ms/step - loss: 0.2710 - accuracy: 0.8813 - val_loss: 0.4887 - val_accuracy: 0.7875\n",
            "Epoch 49/50\n",
            "50/50 [==============================] - 4s 87ms/step - loss: 0.2676 - accuracy: 0.8950 - val_loss: 0.4875 - val_accuracy: 0.7750\n",
            "Epoch 50/50\n",
            "50/50 [==============================] - 4s 87ms/step - loss: 0.2837 - accuracy: 0.8888 - val_loss: 0.4646 - val_accuracy: 0.7958\n"
          ]
        }
      ]
    },
    {
      "cell_type": "code",
      "source": [
        "import numpy as np\n",
        "from keras.preprocessing.image import ImageDataGenerator\n",
        "from keras.models import Sequential\n",
        "from keras.layers import Dropout, Flatten, Dense\n",
        "from keras import applications\n",
        "from keras.optimizers import Adam\n",
        "from keras.callbacks import TensorBoard\n",
        "\n",
        "# Images Dimensions\n",
        "img_width, img_height = 128, 128\n",
        "\n",
        "train_data_dir = 'latihan/train'\n",
        "validation_data_dir = 'latihan/validation'\n",
        "nb_train_samples = 800\n",
        "nb_validation_samples = 240\n",
        "epochs = 50\n",
        "batch_size = 16\n",
        "\n",
        "# TensorBoard Callbacks\n",
        "callbacks = TensorBoard(log_dir='./Graph')"
      ],
      "metadata": {
        "id": "F2cEIJsgP7ax"
      },
      "execution_count": null,
      "outputs": []
    },
    {
      "cell_type": "code",
      "source": [
        "# Build VGG16\n",
        "model = applications.VGG16(include_top=False, weights='imagenet')\n",
        "\n",
        "# Training Data Augmentation\n",
        "train_datagen = ImageDataGenerator(\n",
        "    rescale=1. / 255,\n",
        "    shear_range=0.2,\n",
        "    zoom_range=0.2,\n",
        "    horizontal_flip=True)\n",
        "\n",
        "# Rescale Testing Data\n",
        "test_datagen = ImageDataGenerator(rescale=1. / 255)\n",
        "\n",
        "# Train Data Generator\n",
        "train_generator = train_datagen.flow_from_directory(\n",
        "    train_data_dir,\n",
        "    target_size=(img_width, img_height),\n",
        "    batch_size=batch_size,\n",
        "    class_mode='binary')\n",
        "train_features = model.predict_generator(\n",
        "    train_generator, nb_train_samples // batch_size, verbose=1)\n",
        "np.save('train_features.npy', train_features)\n",
        "\n",
        "# Testing Data Generator\n",
        "validation_generator = test_datagen.flow_from_directory(\n",
        "    validation_data_dir,\n",
        "    target_size=(img_width, img_height),\n",
        "    batch_size=batch_size,\n",
        "    class_mode='binary')\n",
        "validation_features = model.predict_generator(\n",
        "    validation_generator, nb_train_samples // batch_size, verbose=1)\n",
        "np.save('val_features.npy', validation_features)"
      ],
      "metadata": {
        "colab": {
          "base_uri": "https://localhost:8080/"
        },
        "id": "-yiSzBcJRCc7",
        "outputId": "af51ccc6-f177-46c1-cd17-b57b3b125ecb"
      },
      "execution_count": null,
      "outputs": [
        {
          "output_type": "stream",
          "name": "stdout",
          "text": [
            "Downloading data from https://storage.googleapis.com/tensorflow/keras-applications/vgg16/vgg16_weights_tf_dim_ordering_tf_kernels_notop.h5\n",
            "58889256/58889256 [==============================] - 3s 0us/step\n",
            "Found 800 images belonging to 2 classes.\n"
          ]
        },
        {
          "output_type": "stream",
          "name": "stderr",
          "text": [
            "<ipython-input-10-e047860642bc>:20: UserWarning: `Model.predict_generator` is deprecated and will be removed in a future version. Please use `Model.predict`, which supports generators.\n",
            "  train_features = model.predict_generator(\n"
          ]
        },
        {
          "output_type": "stream",
          "name": "stdout",
          "text": [
            "50/50 [==============================] - 5s 77ms/step\n",
            "Found 240 images belonging to 2 classes.\n",
            " 3/50 [>.............................] - ETA: 1s"
          ]
        },
        {
          "output_type": "stream",
          "name": "stderr",
          "text": [
            "<ipython-input-10-e047860642bc>:30: UserWarning: `Model.predict_generator` is deprecated and will be removed in a future version. Please use `Model.predict`, which supports generators.\n",
            "  validation_features = model.predict_generator(\n"
          ]
        },
        {
          "output_type": "stream",
          "name": "stdout",
          "text": [
            "14/50 [=======>......................] - ETA: 0s"
          ]
        },
        {
          "output_type": "stream",
          "name": "stderr",
          "text": [
            "WARNING:tensorflow:Your input ran out of data; interrupting training. Make sure that your dataset or generator can generate at least `steps_per_epoch * epochs` batches (in this case, 50 batches). You may need to use the repeat() function when building your dataset.\n"
          ]
        },
        {
          "output_type": "stream",
          "name": "stdout",
          "text": [
            "\b\b\b\b\b\b\b\b\b\b\b\b\b\b\b\b\b\b\b\b\b\b\b\b\b\b\b\b\b\b\b\b\b\b\b\b\b\b\b\b\b\b\b\b\b\b\b\b\r50/50 [==============================] - 1s 12ms/step\n"
          ]
        }
      ]
    },
    {
      "cell_type": "code",
      "source": [
        "# Build Train Data\n",
        "train_data = np.load('train_features.npy')\n",
        "train_labels = np.array(\n",
        "    [0] * (nb_train_samples // 2) + [1] * (nb_train_samples // 2))\n",
        "\n",
        "# Build Validation Data\n",
        "validation_data = np.load('val_features.npy')\n",
        "validation_labels = np.array(\n",
        "    [0] * (nb_validation_samples // 2) + [1] * (nb_validation_samples // 2))\n",
        "\n",
        "# Build FC Layer\n",
        "fc_model = Sequential()\n",
        "fc_model.add(Flatten(input_shape=train_data.shape[1:]))\n",
        "fc_model.add(Dense(32, activation='relu'))\n",
        "fc_model.add(Dense(1, activation='sigmoid'))\n",
        "\n",
        "# Adam Optimizer and Cross Entropy Loss\n",
        "adam = Adam(lr=0.0001)\n",
        "fc_model.compile(optimizer=adam,\n",
        "                loss='binary_crossentropy', metrics=['accuracy'])\n",
        "\n",
        "fc_model.fit(train_data, train_labels,\n",
        "            epochs=epochs,\n",
        "            batch_size=batch_size,\n",
        "            validation_data=(validation_data, validation_labels), \n",
        "            callbacks=[callbacks])\n",
        "            \n",
        "fc_model.save_weights('vgg16.py')"
      ],
      "metadata": {
        "colab": {
          "base_uri": "https://localhost:8080/"
        },
        "id": "LK2UfFBzRNMj",
        "outputId": "b4b45c55-5520-477b-f990-397db509bc4a"
      },
      "execution_count": null,
      "outputs": [
        {
          "output_type": "stream",
          "name": "stdout",
          "text": [
            "Epoch 1/50\n",
            "50/50 [==============================] - 1s 11ms/step - loss: 0.7118 - accuracy: 0.5113 - val_loss: 0.7017 - val_accuracy: 0.4833\n",
            "Epoch 2/50\n",
            "50/50 [==============================] - 0s 4ms/step - loss: 0.6800 - accuracy: 0.5750 - val_loss: 0.7046 - val_accuracy: 0.5042\n",
            "Epoch 3/50\n",
            "50/50 [==============================] - 0s 3ms/step - loss: 0.6647 - accuracy: 0.6125 - val_loss: 0.7038 - val_accuracy: 0.5083\n",
            "Epoch 4/50\n",
            "50/50 [==============================] - 0s 4ms/step - loss: 0.6344 - accuracy: 0.6762 - val_loss: 0.7074 - val_accuracy: 0.4875\n",
            "Epoch 5/50\n",
            "50/50 [==============================] - 0s 4ms/step - loss: 0.6075 - accuracy: 0.6988 - val_loss: 0.7176 - val_accuracy: 0.4833\n",
            "Epoch 6/50\n",
            "50/50 [==============================] - 0s 4ms/step - loss: 0.5648 - accuracy: 0.7675 - val_loss: 0.7227 - val_accuracy: 0.4625\n",
            "Epoch 7/50\n",
            "50/50 [==============================] - 0s 3ms/step - loss: 0.5368 - accuracy: 0.7937 - val_loss: 0.7275 - val_accuracy: 0.5000\n",
            "Epoch 8/50\n",
            "50/50 [==============================] - 0s 4ms/step - loss: 0.5063 - accuracy: 0.8238 - val_loss: 0.7359 - val_accuracy: 0.5083\n",
            "Epoch 9/50\n",
            "50/50 [==============================] - 0s 4ms/step - loss: 0.4716 - accuracy: 0.8687 - val_loss: 0.7445 - val_accuracy: 0.5083\n",
            "Epoch 10/50\n",
            "50/50 [==============================] - 0s 3ms/step - loss: 0.4422 - accuracy: 0.8925 - val_loss: 0.7668 - val_accuracy: 0.4917\n",
            "Epoch 11/50\n",
            "50/50 [==============================] - 0s 3ms/step - loss: 0.4180 - accuracy: 0.9038 - val_loss: 0.7605 - val_accuracy: 0.4875\n",
            "Epoch 12/50\n",
            "50/50 [==============================] - 0s 3ms/step - loss: 0.3910 - accuracy: 0.9175 - val_loss: 0.7781 - val_accuracy: 0.5333\n",
            "Epoch 13/50\n",
            "50/50 [==============================] - 0s 4ms/step - loss: 0.3691 - accuracy: 0.9413 - val_loss: 0.7856 - val_accuracy: 0.4750\n",
            "Epoch 14/50\n",
            "50/50 [==============================] - 0s 3ms/step - loss: 0.3510 - accuracy: 0.9400 - val_loss: 0.8010 - val_accuracy: 0.5000\n",
            "Epoch 15/50\n",
            "50/50 [==============================] - 0s 4ms/step - loss: 0.3291 - accuracy: 0.9463 - val_loss: 0.7882 - val_accuracy: 0.5250\n",
            "Epoch 16/50\n",
            "50/50 [==============================] - 0s 4ms/step - loss: 0.3118 - accuracy: 0.9613 - val_loss: 0.8031 - val_accuracy: 0.5167\n",
            "Epoch 17/50\n",
            "50/50 [==============================] - 0s 3ms/step - loss: 0.2900 - accuracy: 0.9700 - val_loss: 0.8275 - val_accuracy: 0.5000\n",
            "Epoch 18/50\n",
            "50/50 [==============================] - 0s 3ms/step - loss: 0.2815 - accuracy: 0.9663 - val_loss: 0.8299 - val_accuracy: 0.4833\n",
            "Epoch 19/50\n",
            "50/50 [==============================] - 0s 4ms/step - loss: 0.2591 - accuracy: 0.9762 - val_loss: 0.8259 - val_accuracy: 0.5208\n",
            "Epoch 20/50\n",
            "50/50 [==============================] - 0s 3ms/step - loss: 0.2441 - accuracy: 0.9737 - val_loss: 0.8489 - val_accuracy: 0.4750\n",
            "Epoch 21/50\n",
            "50/50 [==============================] - 0s 4ms/step - loss: 0.2297 - accuracy: 0.9862 - val_loss: 0.8523 - val_accuracy: 0.5125\n",
            "Epoch 22/50\n",
            "50/50 [==============================] - 0s 3ms/step - loss: 0.2166 - accuracy: 0.9887 - val_loss: 0.8620 - val_accuracy: 0.5208\n",
            "Epoch 23/50\n",
            "50/50 [==============================] - 0s 4ms/step - loss: 0.2044 - accuracy: 0.9825 - val_loss: 0.8700 - val_accuracy: 0.5000\n",
            "Epoch 24/50\n",
            "50/50 [==============================] - 0s 4ms/step - loss: 0.1950 - accuracy: 0.9900 - val_loss: 0.8766 - val_accuracy: 0.5083\n",
            "Epoch 25/50\n",
            "50/50 [==============================] - 0s 4ms/step - loss: 0.1829 - accuracy: 0.9937 - val_loss: 0.8870 - val_accuracy: 0.5000\n",
            "Epoch 26/50\n",
            "50/50 [==============================] - 0s 4ms/step - loss: 0.1754 - accuracy: 0.9900 - val_loss: 0.9142 - val_accuracy: 0.5042\n",
            "Epoch 27/50\n",
            "50/50 [==============================] - 0s 4ms/step - loss: 0.1646 - accuracy: 0.9937 - val_loss: 0.9125 - val_accuracy: 0.4958\n",
            "Epoch 28/50\n",
            "50/50 [==============================] - 0s 4ms/step - loss: 0.1551 - accuracy: 0.9937 - val_loss: 0.9167 - val_accuracy: 0.5000\n",
            "Epoch 29/50\n",
            "50/50 [==============================] - 0s 4ms/step - loss: 0.1449 - accuracy: 0.9975 - val_loss: 0.9511 - val_accuracy: 0.5000\n",
            "Epoch 30/50\n",
            "50/50 [==============================] - 0s 4ms/step - loss: 0.1445 - accuracy: 0.9950 - val_loss: 0.9397 - val_accuracy: 0.4917\n",
            "Epoch 31/50\n",
            "50/50 [==============================] - 0s 4ms/step - loss: 0.1317 - accuracy: 0.9937 - val_loss: 0.9558 - val_accuracy: 0.4917\n",
            "Epoch 32/50\n",
            "50/50 [==============================] - 0s 4ms/step - loss: 0.1248 - accuracy: 0.9962 - val_loss: 0.9644 - val_accuracy: 0.4875\n",
            "Epoch 33/50\n",
            "50/50 [==============================] - 0s 4ms/step - loss: 0.1189 - accuracy: 0.9975 - val_loss: 0.9729 - val_accuracy: 0.4917\n",
            "Epoch 34/50\n",
            "50/50 [==============================] - 0s 4ms/step - loss: 0.1110 - accuracy: 0.9987 - val_loss: 0.9889 - val_accuracy: 0.4750\n",
            "Epoch 35/50\n",
            "50/50 [==============================] - 0s 4ms/step - loss: 0.1063 - accuracy: 0.9987 - val_loss: 0.9997 - val_accuracy: 0.4917\n",
            "Epoch 36/50\n",
            "50/50 [==============================] - 0s 4ms/step - loss: 0.1010 - accuracy: 0.9975 - val_loss: 1.0242 - val_accuracy: 0.5292\n",
            "Epoch 37/50\n",
            "50/50 [==============================] - 0s 3ms/step - loss: 0.0961 - accuracy: 0.9987 - val_loss: 1.0206 - val_accuracy: 0.4875\n",
            "Epoch 38/50\n",
            "50/50 [==============================] - 0s 3ms/step - loss: 0.0905 - accuracy: 0.9987 - val_loss: 1.0260 - val_accuracy: 0.4833\n",
            "Epoch 39/50\n",
            "50/50 [==============================] - 0s 4ms/step - loss: 0.0851 - accuracy: 0.9975 - val_loss: 1.0495 - val_accuracy: 0.4875\n",
            "Epoch 40/50\n",
            "50/50 [==============================] - 0s 4ms/step - loss: 0.0840 - accuracy: 0.9962 - val_loss: 1.0500 - val_accuracy: 0.4958\n",
            "Epoch 41/50\n",
            "50/50 [==============================] - 0s 4ms/step - loss: 0.0778 - accuracy: 0.9987 - val_loss: 1.0623 - val_accuracy: 0.4917\n",
            "Epoch 42/50\n",
            "50/50 [==============================] - 0s 4ms/step - loss: 0.0753 - accuracy: 0.9987 - val_loss: 1.0757 - val_accuracy: 0.4833\n",
            "Epoch 43/50\n",
            "50/50 [==============================] - 0s 4ms/step - loss: 0.0700 - accuracy: 0.9987 - val_loss: 1.0929 - val_accuracy: 0.5125\n",
            "Epoch 44/50\n",
            "50/50 [==============================] - 0s 4ms/step - loss: 0.0668 - accuracy: 0.9987 - val_loss: 1.1010 - val_accuracy: 0.5167\n",
            "Epoch 45/50\n",
            "50/50 [==============================] - 0s 4ms/step - loss: 0.0645 - accuracy: 0.9987 - val_loss: 1.1063 - val_accuracy: 0.4917\n",
            "Epoch 46/50\n",
            "50/50 [==============================] - 0s 4ms/step - loss: 0.0627 - accuracy: 0.9987 - val_loss: 1.1132 - val_accuracy: 0.4917\n",
            "Epoch 47/50\n",
            "50/50 [==============================] - 0s 4ms/step - loss: 0.0590 - accuracy: 0.9987 - val_loss: 1.1380 - val_accuracy: 0.5000\n",
            "Epoch 48/50\n",
            "50/50 [==============================] - 0s 4ms/step - loss: 0.0554 - accuracy: 1.0000 - val_loss: 1.1449 - val_accuracy: 0.4958\n",
            "Epoch 49/50\n",
            "50/50 [==============================] - 0s 4ms/step - loss: 0.0533 - accuracy: 0.9987 - val_loss: 1.1459 - val_accuracy: 0.4917\n",
            "Epoch 50/50\n",
            "50/50 [==============================] - 0s 4ms/step - loss: 0.0507 - accuracy: 0.9987 - val_loss: 1.1557 - val_accuracy: 0.4917\n"
          ]
        }
      ]
    },
    {
      "cell_type": "code",
      "source": [
        "import numpy as np\n",
        "from keras.preprocessing.image import ImageDataGenerator\n",
        "from keras.models import Sequential\n",
        "from keras.layers import Dropout, Flatten, Dense\n",
        "from keras import applications\n",
        "from keras.optimizers import Adam\n",
        "\n",
        "img_width, img_height = 128, 128\n",
        "\n",
        "test_data_dir = 'latihan/testing'\n",
        "\n",
        "def get_features():\n",
        "    datagen = ImageDataGenerator(rescale=1. / 255)\n",
        "\n",
        "    # build the VGG16 network\n",
        "    model = applications.VGG16(include_top=False, weights='imagenet')\n",
        "\n",
        "    generator = datagen.flow_from_directory(\n",
        "        test_data_dir,\n",
        "        target_size=(img_width, img_height),\n",
        "        batch_size=1,\n",
        "        class_mode='binary',\n",
        "        shuffle=False)\n",
        "    features = model.predict_generator(\n",
        "        generator, 8)\n",
        "    return features\n",
        "\n",
        "def get_score():\n",
        "    features = get_features()    \n",
        "\n",
        "    model = Sequential()\n",
        "    model.add(Flatten(input_shape=features.shape[1:]))\n",
        "    model.add(Dense(32, activation='relu'))\n",
        "    model.add(Dense(1, activation='sigmoid'))\n",
        "        \n",
        "    model.load_weights('vgg16.py')\n",
        "\n",
        "    score = model.predict(features)\n",
        "    print(score)\n",
        "\n",
        "get_score()"
      ],
      "metadata": {
        "colab": {
          "base_uri": "https://localhost:8080/"
        },
        "id": "PBt55XEHReH9",
        "outputId": "e3751626-b91b-4fd3-8a1a-0bc0c087e4ed"
      },
      "execution_count": null,
      "outputs": [
        {
          "output_type": "stream",
          "name": "stdout",
          "text": [
            "Found 8 images belonging to 1 classes.\n"
          ]
        },
        {
          "output_type": "stream",
          "name": "stderr",
          "text": [
            "<ipython-input-14-0965a2535447>:24: UserWarning: `Model.predict_generator` is deprecated and will be removed in a future version. Please use `Model.predict`, which supports generators.\n",
            "  features = model.predict_generator(\n"
          ]
        },
        {
          "output_type": "stream",
          "name": "stdout",
          "text": [
            "1/1 [==============================] - 0s 37ms/step\n",
            "[[0.8611809 ]\n",
            " [0.02038782]\n",
            " [0.03804415]\n",
            " [0.1958484 ]\n",
            " [0.83914244]\n",
            " [0.11303189]\n",
            " [0.5609708 ]\n",
            " [0.60171515]]\n"
          ]
        }
      ]
    }
  ]
}