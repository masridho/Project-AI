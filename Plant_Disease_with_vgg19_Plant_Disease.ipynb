{
  "nbformat": 4,
  "nbformat_minor": 0,
  "metadata": {
    "colab": {
      "provenance": [],
      "collapsed_sections": [
        "QXIwVd91BdaT"
      ]
    },
    "kernelspec": {
      "name": "python3",
      "display_name": "Python 3"
    },
    "language_info": {
      "name": "python"
    },
    "accelerator": "GPU",
    "gpuClass": "standard"
  },
  "cells": [
    {
      "cell_type": "markdown",
      "source": [
        "##Import Library"
      ],
      "metadata": {
        "id": "QXIwVd91BdaT"
      }
    },
    {
      "cell_type": "code",
      "execution_count": null,
      "metadata": {
        "id": "1Vlpl68s_wwQ"
      },
      "outputs": [],
      "source": [
        "import os\n",
        "import tensorflow as tf\n",
        "import requests\n",
        "from tensorflow import keras\n",
        "from tensorflow.keras import layers, models\n",
        "from keras.applications.vgg19 import VGG19\n",
        "from tensorflow.keras.models import Sequential\n",
        "from tensorflow.keras.layers import Conv2D, MaxPooling2D, Dense, GlobalMaxPool2D, concatenate\n",
        "import matplotlib.pyplot as plt\n",
        "import shutil\n",
        "import random\n",
        "import cv2\n",
        "from PIL import Image\n",
        "import numpy as np\n",
        "from keras.layers import BatchNormalization\n",
        "from keras import Model\n",
        "from matplotlib import pyplot as plt\n",
        "from matplotlib import image as mpimg"
      ]
    },
    {
      "cell_type": "code",
      "source": [
        "!pip install Augmentor --quiet\n",
        "import Augmentor\n",
        "!pip install tqdm\n",
        "from tqdm import tqdm\n",
        "!pip install opendatasets\n",
        "import opendatasets as od"
      ],
      "metadata": {
        "colab": {
          "base_uri": "https://localhost:8080/"
        },
        "id": "xgKj9sKRBjIU",
        "outputId": "e7d3619b-08ac-4351-e652-a7748fa749b6"
      },
      "execution_count": null,
      "outputs": [
        {
          "output_type": "stream",
          "name": "stdout",
          "text": [
            "Looking in indexes: https://pypi.org/simple, https://us-python.pkg.dev/colab-wheels/public/simple/\n",
            "Requirement already satisfied: tqdm in /usr/local/lib/python3.8/dist-packages (4.64.1)\n",
            "Looking in indexes: https://pypi.org/simple, https://us-python.pkg.dev/colab-wheels/public/simple/\n",
            "Collecting opendatasets\n",
            "  Downloading opendatasets-0.1.22-py3-none-any.whl (15 kB)\n",
            "Requirement already satisfied: kaggle in /usr/local/lib/python3.8/dist-packages (from opendatasets) (1.5.12)\n",
            "Requirement already satisfied: tqdm in /usr/local/lib/python3.8/dist-packages (from opendatasets) (4.64.1)\n",
            "Requirement already satisfied: click in /usr/local/lib/python3.8/dist-packages (from opendatasets) (7.1.2)\n",
            "Requirement already satisfied: requests in /usr/local/lib/python3.8/dist-packages (from kaggle->opendatasets) (2.23.0)\n",
            "Requirement already satisfied: six>=1.10 in /usr/local/lib/python3.8/dist-packages (from kaggle->opendatasets) (1.15.0)\n",
            "Requirement already satisfied: python-slugify in /usr/local/lib/python3.8/dist-packages (from kaggle->opendatasets) (7.0.0)\n",
            "Requirement already satisfied: urllib3 in /usr/local/lib/python3.8/dist-packages (from kaggle->opendatasets) (1.24.3)\n",
            "Requirement already satisfied: certifi in /usr/local/lib/python3.8/dist-packages (from kaggle->opendatasets) (2022.12.7)\n",
            "Requirement already satisfied: python-dateutil in /usr/local/lib/python3.8/dist-packages (from kaggle->opendatasets) (2.8.2)\n",
            "Requirement already satisfied: text-unidecode>=1.3 in /usr/local/lib/python3.8/dist-packages (from python-slugify->kaggle->opendatasets) (1.3)\n",
            "Requirement already satisfied: chardet<4,>=3.0.2 in /usr/local/lib/python3.8/dist-packages (from requests->kaggle->opendatasets) (3.0.4)\n",
            "Requirement already satisfied: idna<3,>=2.5 in /usr/local/lib/python3.8/dist-packages (from requests->kaggle->opendatasets) (2.10)\n",
            "Installing collected packages: opendatasets\n",
            "Successfully installed opendatasets-0.1.22\n"
          ]
        }
      ]
    },
    {
      "cell_type": "markdown",
      "source": [
        "##Data Preparation"
      ],
      "metadata": {
        "id": "UlW2rOprBkj_"
      }
    },
    {
      "cell_type": "code",
      "source": [
        "od.download(\"https://www.kaggle.com/datasets/rashikrahmanpritom/plant-disease-recognition-dataset?select=Test\")"
      ],
      "metadata": {
        "colab": {
          "base_uri": "https://localhost:8080/"
        },
        "id": "pHYjJ93UBmvt",
        "outputId": "290a497a-bca2-4e8f-9a6e-e439fab43724"
      },
      "execution_count": null,
      "outputs": [
        {
          "output_type": "stream",
          "name": "stdout",
          "text": [
            "Please provide your Kaggle credentials to download this dataset. Learn more: http://bit.ly/kaggle-creds\n",
            "Your Kaggle username: muhammadyusufridho\n",
            "Your Kaggle Key: ··········\n",
            "Downloading plant-disease-recognition-dataset.zip to ./plant-disease-recognition-dataset\n"
          ]
        },
        {
          "output_type": "stream",
          "name": "stderr",
          "text": [
            "100%|██████████| 1.25G/1.25G [00:32<00:00, 41.7MB/s]\n"
          ]
        },
        {
          "output_type": "stream",
          "name": "stdout",
          "text": [
            "\n"
          ]
        }
      ]
    },
    {
      "cell_type": "code",
      "source": [
        "source_path = 'plant-disease-recognition-dataset'\n",
        "source_train = os.path.join(source_path, 'Train/Train')\n",
        "source_test = os.path.join(source_path, 'Test/Test')"
      ],
      "metadata": {
        "id": "oRyX26K4BxGK"
      },
      "execution_count": null,
      "outputs": []
    },
    {
      "cell_type": "code",
      "source": [
        "training_path = 'data/train'\n",
        "testing_path = 'data/test'\n",
        "try:\n",
        "  os.mkdir('data')\n",
        "except:\n",
        "  print('path exist')\n",
        "\n",
        "try:\n",
        "  os.mkdir(testing_path)\n",
        "except:\n",
        "  print('path exist')\n",
        "\n",
        "try:\n",
        "  os.mkdir(training_path)\n",
        "except:\n",
        "  print('path exist')\n"
      ],
      "metadata": {
        "id": "YpMf1SWDCSDg"
      },
      "execution_count": null,
      "outputs": []
    },
    {
      "cell_type": "code",
      "source": [
        "categories = os.listdir(source_train)\n",
        "categories"
      ],
      "metadata": {
        "colab": {
          "base_uri": "https://localhost:8080/"
        },
        "id": "SJqxGg-DCYOX",
        "outputId": "b07ae567-e641-407c-be08-8271b125f7bb"
      },
      "execution_count": null,
      "outputs": [
        {
          "output_type": "execute_result",
          "data": {
            "text/plain": [
              "['Healthy', 'Powdery', 'Rust']"
            ]
          },
          "metadata": {},
          "execution_count": 6
        }
      ]
    },
    {
      "cell_type": "code",
      "source": [
        "for category in categories:\n",
        "  try:\n",
        "    os.mkdir(os.path.join(training_path, category))\n",
        "    os.mkdir(os.path.join(testing_path, category))\n",
        "  except:\n",
        "    print('path exist!')"
      ],
      "metadata": {
        "id": "sAzw9_4JCcaw"
      },
      "execution_count": null,
      "outputs": []
    },
    {
      "cell_type": "code",
      "source": [
        "list_class = os.listdir(training_path)\n",
        "print(list_class)"
      ],
      "metadata": {
        "colab": {
          "base_uri": "https://localhost:8080/"
        },
        "id": "FT0_2emfCh7w",
        "outputId": "3f695467-b466-4c4d-8a57-7efc1e851da7"
      },
      "execution_count": null,
      "outputs": [
        {
          "output_type": "stream",
          "name": "stdout",
          "text": [
            "['Healthy', 'Powdery', 'Rust']\n"
          ]
        }
      ]
    },
    {
      "cell_type": "code",
      "source": [
        "len(list_class)"
      ],
      "metadata": {
        "colab": {
          "base_uri": "https://localhost:8080/"
        },
        "id": "jK3YEl8aCk5A",
        "outputId": "9919a607-8d40-4f5d-9b77-e59caf3cb8d4"
      },
      "execution_count": null,
      "outputs": [
        {
          "output_type": "execute_result",
          "data": {
            "text/plain": [
              "3"
            ]
          },
          "metadata": {},
          "execution_count": 9
        }
      ]
    },
    {
      "cell_type": "code",
      "source": [
        "#SET LABEL CLASS\n",
        "dic_labels = {}\n",
        "list_class.sort()\n",
        "for index, category in enumerate(categories):\n",
        "  dic_labels[category] = str(index)\n",
        "dic_labels"
      ],
      "metadata": {
        "colab": {
          "base_uri": "https://localhost:8080/"
        },
        "id": "0PIe4JhxCmaq",
        "outputId": "b44d7827-c588-49a9-ad1d-3ee5cf7ca91a"
      },
      "execution_count": null,
      "outputs": [
        {
          "output_type": "execute_result",
          "data": {
            "text/plain": [
              "{'Healthy': '0', 'Powdery': '1', 'Rust': '2'}"
            ]
          },
          "metadata": {},
          "execution_count": 10
        }
      ]
    },
    {
      "cell_type": "code",
      "source": [
        "dic_class = {'class' : [], 'total_img' : []}\n",
        "for category in categories :\n",
        "  total_img = os.listdir(os.path.join(source_train, category))\n",
        "  dic_class['class'].append(category)\n",
        "  dic_class['total_img'].append(len(total_img))\n",
        "dic_class\n"
      ],
      "metadata": {
        "colab": {
          "base_uri": "https://localhost:8080/"
        },
        "id": "a7ZZlkHACpl9",
        "outputId": "e5b469e8-a6af-4b3d-a333-81def18861d9"
      },
      "execution_count": null,
      "outputs": [
        {
          "output_type": "execute_result",
          "data": {
            "text/plain": [
              "{'class': ['Healthy', 'Powdery', 'Rust'], 'total_img': [458, 430, 434]}"
            ]
          },
          "metadata": {},
          "execution_count": 11
        }
      ]
    },
    {
      "cell_type": "code",
      "source": [
        "dic_class = {'class' : [], 'total_img' : []}\n",
        "for category in categories :\n",
        "  total_img = os.listdir(os.path.join(source_test, category))\n",
        "  dic_class['class'].append(category)\n",
        "  dic_class['total_img'].append(len(total_img))\n",
        "dic_class\n"
      ],
      "metadata": {
        "colab": {
          "base_uri": "https://localhost:8080/"
        },
        "id": "qVwKRZJNCwq-",
        "outputId": "9a5cd627-9a2a-4a26-dabc-3bfeca6013f4"
      },
      "execution_count": null,
      "outputs": [
        {
          "output_type": "execute_result",
          "data": {
            "text/plain": [
              "{'class': ['Healthy', 'Powdery', 'Rust'], 'total_img': [50, 50, 50]}"
            ]
          },
          "metadata": {},
          "execution_count": 12
        }
      ]
    },
    {
      "cell_type": "code",
      "source": [
        "#copy file training ke folder data\n",
        "ROOT_DIR = os.path.abspath(os.curdir)\n",
        "os.chdir(ROOT_DIR)\n",
        "for i in range(len(dic_class['class'])):\n",
        "  os.chdir(ROOT_DIR)\n",
        "  folder_path = os.path.join(source_train, dic_class['class'][i] )\n",
        "  list_img = os.listdir(folder_path)\n",
        "  for index, img in enumerate(list_img):\n",
        "    if 'JPG' in img or 'jpg' in img :\n",
        "      file_path = os.path.join(folder_path, img)\n",
        "      image = cv2.imread(file_path, cv2.IMREAD_UNCHANGED)\n",
        "      resized = cv2.resize(image, (224, 224), interpolation = cv2.INTER_AREA)\n",
        "      os.chdir(os.path.join(training_path, dic_class['class'][i]))\n",
        "      cv2.imwrite(img, resized)\n",
        "      os.chdir(ROOT_DIR)\n",
        "    if index == 999 :\n",
        "      break\n",
        "os.chdir(ROOT_DIR)"
      ],
      "metadata": {
        "id": "Ued0Nh1WC0fd"
      },
      "execution_count": null,
      "outputs": []
    },
    {
      "cell_type": "code",
      "source": [
        "#copy file testing ke folder data\n",
        "ROOT_DIR = os.path.abspath(os.curdir)\n",
        "os.chdir(ROOT_DIR)\n",
        "for i in range(len(dic_class['class'])):\n",
        "  os.chdir(ROOT_DIR)\n",
        "  folder_path = os.path.join(source_test, dic_class['class'][i] )\n",
        "  list_img = os.listdir(folder_path)\n",
        "  for index, img in enumerate(list_img):\n",
        "    if 'JPG' in img or 'jpg' in img :\n",
        "      file_path = os.path.join(folder_path, img)\n",
        "      image = cv2.imread(file_path, cv2.IMREAD_UNCHANGED)\n",
        "      resized = cv2.resize(image, (224, 224), interpolation = cv2.INTER_AREA)\n",
        "      os.chdir(os.path.join(testing_path, dic_class['class'][i]))\n",
        "      cv2.imwrite(img, resized)\n",
        "      os.chdir(ROOT_DIR)\n",
        "    if index == 999 :\n",
        "      break\n",
        "os.chdir(ROOT_DIR)"
      ],
      "metadata": {
        "id": "B0WujBz-DDhu"
      },
      "execution_count": null,
      "outputs": []
    },
    {
      "cell_type": "code",
      "source": [
        "dic_class = {'class' : [], 'total_img' : []}\n",
        "for category in categories :\n",
        "  total_img = os.listdir(os.path.join(training_path, category))\n",
        "  dic_class['class'].append(category)\n",
        "  dic_class['total_img'].append(len(total_img))\n",
        "dic_class\n"
      ],
      "metadata": {
        "colab": {
          "base_uri": "https://localhost:8080/"
        },
        "id": "iMp1KBkAC3N6",
        "outputId": "0b03c5f8-557d-4a8d-8862-1adada922b75"
      },
      "execution_count": null,
      "outputs": [
        {
          "output_type": "execute_result",
          "data": {
            "text/plain": [
              "{'class': ['Healthy', 'Powdery', 'Rust'], 'total_img': [500, 500, 500]}"
            ]
          },
          "metadata": {},
          "execution_count": 19
        }
      ]
    },
    {
      "cell_type": "code",
      "source": [
        "dic_class = {'class' : [], 'total_img' : []}\n",
        "for category in categories :\n",
        "  total_img = os.listdir(os.path.join(testing_path, category))\n",
        "  dic_class['class'].append(category)\n",
        "  dic_class['total_img'].append(len(total_img))\n",
        "dic_class\n"
      ],
      "metadata": {
        "colab": {
          "base_uri": "https://localhost:8080/"
        },
        "id": "qDOPcpkVDv4S",
        "outputId": "65211839-de0c-42e9-a750-1d66f8bb02e8"
      },
      "execution_count": null,
      "outputs": [
        {
          "output_type": "execute_result",
          "data": {
            "text/plain": [
              "{'class': ['Healthy', 'Powdery', 'Rust'], 'total_img': [50, 50, 50]}"
            ]
          },
          "metadata": {},
          "execution_count": 18
        }
      ]
    },
    {
      "cell_type": "code",
      "source": [
        "def perbanyak_(ini, hanya):\n",
        "  source_dir = ini\n",
        "  output_dir = \".\"\n",
        "  p = Augmentor.Pipeline(source_directory=source_dir, output_directory=output_dir)\n",
        "  p.rotate(probability=1, max_left_rotation=5, max_right_rotation=5)\n",
        "\n",
        "  p.sample(hanya)\n",
        "\n",
        "\n",
        "jumlah_data = 500\n",
        "for category in os.listdir(os.path.join(training_path)):\n",
        "  cof = os.path.join(training_path,category)\n",
        "  numb = len(os.listdir(cof))\n",
        "  perbanyak_(cof, jumlah_data - numb)"
      ],
      "metadata": {
        "colab": {
          "base_uri": "https://localhost:8080/"
        },
        "id": "HoIKskR9D6Ut",
        "outputId": "3738f98a-b463-4764-cc50-6f68a16050b0"
      },
      "execution_count": null,
      "outputs": [
        {
          "output_type": "stream",
          "name": "stdout",
          "text": [
            "Initialised with 458 image(s) found.\n",
            "Output directory set to data/train/Healthy/.."
          ]
        },
        {
          "output_type": "stream",
          "name": "stderr",
          "text": [
            "Processing <PIL.Image.Image image mode=RGB size=224x224 at 0x7FC496BB3220>: 100%|██████████| 42/42 [00:00<00:00, 105.98 Samples/s]\n"
          ]
        },
        {
          "output_type": "stream",
          "name": "stdout",
          "text": [
            "Initialised with 430 image(s) found.\n",
            "Output directory set to data/train/Powdery/.."
          ]
        },
        {
          "output_type": "stream",
          "name": "stderr",
          "text": [
            "Processing <PIL.Image.Image image mode=RGB size=224x224 at 0x7FC496C0ACA0>: 100%|██████████| 70/70 [00:00<00:00, 106.42 Samples/s]\n"
          ]
        },
        {
          "output_type": "stream",
          "name": "stdout",
          "text": [
            "Initialised with 434 image(s) found.\n",
            "Output directory set to data/train/Rust/.."
          ]
        },
        {
          "output_type": "stream",
          "name": "stderr",
          "text": [
            "Processing <PIL.Image.Image image mode=RGB size=224x224 at 0x7FC496BBDA30>: 100%|██████████| 66/66 [00:00<00:00, 113.75 Samples/s]\n"
          ]
        }
      ]
    },
    {
      "cell_type": "code",
      "source": [
        "# Preparing Data Testing & re-shape ke ukuran 224x224\n",
        "X_test = []\n",
        "y_test = []\n",
        "\n",
        "list_category = os.listdir(testing_path)\n",
        "list_category.sort()\n",
        "for category in list_category :\n",
        "  list_image = os.listdir(os.path.join(testing_path, category))\n",
        "  for image in list_image :\n",
        "    img = cv2.imread(os.path.join(testing_path, category, image), cv2.IMREAD_UNCHANGED)\n",
        "    resized = cv2.resize(img, (224, 224), interpolation = cv2.INTER_AREA)\n",
        "    img = np.array(resized)\n",
        "    X_test.append(img)\n",
        "    y_test.append(dic_labels[category])"
      ],
      "metadata": {
        "id": "FD5iYOUGELnc"
      },
      "execution_count": null,
      "outputs": []
    },
    {
      "cell_type": "code",
      "source": [
        "X_test = np.array(X_test)\n",
        "X_test.shape"
      ],
      "metadata": {
        "colab": {
          "base_uri": "https://localhost:8080/"
        },
        "id": "tNk6JPyzESBl",
        "outputId": "249d8731-e8bf-4d7f-ac5e-617f035876d9"
      },
      "execution_count": null,
      "outputs": [
        {
          "output_type": "execute_result",
          "data": {
            "text/plain": [
              "(150, 224, 224, 3)"
            ]
          },
          "metadata": {},
          "execution_count": 21
        }
      ]
    },
    {
      "cell_type": "code",
      "source": [
        "data = tf.keras.utils.image_dataset_from_directory(training_path,  image_size=(224, 224))"
      ],
      "metadata": {
        "colab": {
          "base_uri": "https://localhost:8080/"
        },
        "id": "vi0vyREbEb2d",
        "outputId": "b4105960-60db-4cbe-c457-104362799f3b"
      },
      "execution_count": null,
      "outputs": [
        {
          "output_type": "stream",
          "name": "stdout",
          "text": [
            "Found 1500 files belonging to 3 classes.\n"
          ]
        }
      ]
    },
    {
      "cell_type": "code",
      "source": [
        "#Data Normalization\n",
        "data = data.map(lambda x,y : (x/255, y))"
      ],
      "metadata": {
        "id": "CANgrtXkEdcj"
      },
      "execution_count": null,
      "outputs": []
    },
    {
      "cell_type": "code",
      "source": [
        "data2 = tf.keras.utils.image_dataset_from_directory(testing_path,  image_size=(224, 224))"
      ],
      "metadata": {
        "colab": {
          "base_uri": "https://localhost:8080/"
        },
        "id": "hb5XzaR2IPEd",
        "outputId": "d5197f13-ec85-4646-8b30-8c4708073d6f"
      },
      "execution_count": null,
      "outputs": [
        {
          "output_type": "stream",
          "name": "stdout",
          "text": [
            "Found 150 files belonging to 3 classes.\n"
          ]
        }
      ]
    },
    {
      "cell_type": "code",
      "source": [
        "#Data Normalization\n",
        "data2 = data.map(lambda x,y : (x/255, y))"
      ],
      "metadata": {
        "id": "2l-5weFcIRzK"
      },
      "execution_count": null,
      "outputs": []
    },
    {
      "cell_type": "code",
      "source": [
        "#Set Data Size\n",
        "train_size = int(len(data)*.8)\n",
        "val_size = len(data)-train_size"
      ],
      "metadata": {
        "id": "tVMIgGPPEewe"
      },
      "execution_count": null,
      "outputs": []
    },
    {
      "cell_type": "code",
      "source": [
        "#splitting Data to train and validation\n",
        "train = data.take(train_size)\n",
        "val = data.skip(train_size).take(val_size)"
      ],
      "metadata": {
        "id": "b-Aa3ljCEwgL"
      },
      "execution_count": null,
      "outputs": []
    },
    {
      "cell_type": "markdown",
      "source": [
        "##Membangun model EfficientNet"
      ],
      "metadata": {
        "id": "CYagsiaIEyiU"
      }
    },
    {
      "cell_type": "code",
      "source": [
        "from tensorflow.keras.applications import EfficientNetB4"
      ],
      "metadata": {
        "id": "LrPE-1UXE0-e"
      },
      "execution_count": null,
      "outputs": []
    },
    {
      "cell_type": "code",
      "source": [
        "#Getting pretraind model of EfficientNet Model from imagenet\n",
        "base_model = VGG19(include_top = False, weights='imagenet', input_shape=(224, 224, 3))"
      ],
      "metadata": {
        "colab": {
          "base_uri": "https://localhost:8080/"
        },
        "id": "akeScE5ZE3Xt",
        "outputId": "460a3bef-6ca9-499a-b1da-93e9e477cc76"
      },
      "execution_count": null,
      "outputs": [
        {
          "output_type": "stream",
          "name": "stdout",
          "text": [
            "Downloading data from https://storage.googleapis.com/tensorflow/keras-applications/vgg19/vgg19_weights_tf_dim_ordering_tf_kernels_notop.h5\n",
            "80134624/80134624 [==============================] - 3s 0us/step\n"
          ]
        }
      ]
    },
    {
      "cell_type": "code",
      "source": [
        "#Making Naive Inception Modul\n",
        "def inception_module(layer_in, f1, f2, f3):\n",
        "\t# 1x1 conv\n",
        "\tconv1 = Conv2D(f1, (1,1), padding='same', activation='swish')(layer_in)\n",
        "\t# 3x3 conv\n",
        "\tconv3 = Conv2D(f2, (3,3), padding='same', activation='swish')(layer_in)\n",
        "\t# 5x5 conv\n",
        "\tconv5 = Conv2D(f3, (5,5), padding='same', activation='swish')(layer_in)\n",
        "\t# 3x3 max pooling\n",
        "\tpool = MaxPooling2D((3,3), strides=(1,1), padding='same')(layer_in)\n",
        "\t# concatenate filters, assumes filters/channels last\n",
        "\tlayer_out = concatenate([conv1, conv3, conv5], axis=-1)\n",
        "\treturn layer_out"
      ],
      "metadata": {
        "id": "m_PFgjPtE8Lq"
      },
      "execution_count": null,
      "outputs": []
    },
    {
      "cell_type": "code",
      "source": [
        "output_new_layer = base_model.output\n",
        "base_model.output.shape"
      ],
      "metadata": {
        "colab": {
          "base_uri": "https://localhost:8080/"
        },
        "id": "GqPA-VjbE-nw",
        "outputId": "caacd9a8-531e-4ed8-e79a-8693b6139e44"
      },
      "execution_count": null,
      "outputs": [
        {
          "output_type": "execute_result",
          "data": {
            "text/plain": [
              "TensorShape([None, 7, 7, 512])"
            ]
          },
          "metadata": {},
          "execution_count": 28
        }
      ]
    },
    {
      "cell_type": "code",
      "source": [
        "base_model.input.shape\n"
      ],
      "metadata": {
        "colab": {
          "base_uri": "https://localhost:8080/"
        },
        "id": "wDpsBdtjFAE7",
        "outputId": "67a42177-6fe5-4249-f3c7-bc979ff692e3"
      },
      "execution_count": null,
      "outputs": [
        {
          "output_type": "execute_result",
          "data": {
            "text/plain": [
              "TensorShape([None, 224, 224, 3])"
            ]
          },
          "metadata": {},
          "execution_count": 29
        }
      ]
    },
    {
      "cell_type": "code",
      "source": [
        "#ADDING NEW LAYERS\n",
        "output_new_layer = BatchNormalization(input_shape=(7,7, 512))(output_new_layer)\n",
        "output_new_layer = inception_module(output_new_layer, 42, 84, 130)\n",
        "output_new_layer = inception_module(output_new_layer, 42, 84, 130)\n",
        "output_new_layer = GlobalMaxPool2D()(output_new_layer)\n",
        "predictions = Dense(len(list_class), activation='softmax', name='pred') (output_new_layer)\n",
        "new_model = Model(inputs=base_model.input, outputs = predictions)\n"
      ],
      "metadata": {
        "id": "sF3gLpxDFBn0"
      },
      "execution_count": null,
      "outputs": []
    },
    {
      "cell_type": "code",
      "source": [
        "new_model.summary()"
      ],
      "metadata": {
        "colab": {
          "base_uri": "https://localhost:8080/"
        },
        "id": "mX7ohwRyFDEz",
        "outputId": "8b176531-9d9f-4a15-d0f6-79acc15c378a"
      },
      "execution_count": null,
      "outputs": [
        {
          "output_type": "stream",
          "name": "stdout",
          "text": [
            "Model: \"model\"\n",
            "__________________________________________________________________________________________________\n",
            " Layer (type)                   Output Shape         Param #     Connected to                     \n",
            "==================================================================================================\n",
            " input_1 (InputLayer)           [(None, 224, 224, 3  0           []                               \n",
            "                                )]                                                                \n",
            "                                                                                                  \n",
            " block1_conv1 (Conv2D)          (None, 224, 224, 64  1792        ['input_1[0][0]']                \n",
            "                                )                                                                 \n",
            "                                                                                                  \n",
            " block1_conv2 (Conv2D)          (None, 224, 224, 64  36928       ['block1_conv1[0][0]']           \n",
            "                                )                                                                 \n",
            "                                                                                                  \n",
            " block1_pool (MaxPooling2D)     (None, 112, 112, 64  0           ['block1_conv2[0][0]']           \n",
            "                                )                                                                 \n",
            "                                                                                                  \n",
            " block2_conv1 (Conv2D)          (None, 112, 112, 12  73856       ['block1_pool[0][0]']            \n",
            "                                8)                                                                \n",
            "                                                                                                  \n",
            " block2_conv2 (Conv2D)          (None, 112, 112, 12  147584      ['block2_conv1[0][0]']           \n",
            "                                8)                                                                \n",
            "                                                                                                  \n",
            " block2_pool (MaxPooling2D)     (None, 56, 56, 128)  0           ['block2_conv2[0][0]']           \n",
            "                                                                                                  \n",
            " block3_conv1 (Conv2D)          (None, 56, 56, 256)  295168      ['block2_pool[0][0]']            \n",
            "                                                                                                  \n",
            " block3_conv2 (Conv2D)          (None, 56, 56, 256)  590080      ['block3_conv1[0][0]']           \n",
            "                                                                                                  \n",
            " block3_conv3 (Conv2D)          (None, 56, 56, 256)  590080      ['block3_conv2[0][0]']           \n",
            "                                                                                                  \n",
            " block3_conv4 (Conv2D)          (None, 56, 56, 256)  590080      ['block3_conv3[0][0]']           \n",
            "                                                                                                  \n",
            " block3_pool (MaxPooling2D)     (None, 28, 28, 256)  0           ['block3_conv4[0][0]']           \n",
            "                                                                                                  \n",
            " block4_conv1 (Conv2D)          (None, 28, 28, 512)  1180160     ['block3_pool[0][0]']            \n",
            "                                                                                                  \n",
            " block4_conv2 (Conv2D)          (None, 28, 28, 512)  2359808     ['block4_conv1[0][0]']           \n",
            "                                                                                                  \n",
            " block4_conv3 (Conv2D)          (None, 28, 28, 512)  2359808     ['block4_conv2[0][0]']           \n",
            "                                                                                                  \n",
            " block4_conv4 (Conv2D)          (None, 28, 28, 512)  2359808     ['block4_conv3[0][0]']           \n",
            "                                                                                                  \n",
            " block4_pool (MaxPooling2D)     (None, 14, 14, 512)  0           ['block4_conv4[0][0]']           \n",
            "                                                                                                  \n",
            " block5_conv1 (Conv2D)          (None, 14, 14, 512)  2359808     ['block4_pool[0][0]']            \n",
            "                                                                                                  \n",
            " block5_conv2 (Conv2D)          (None, 14, 14, 512)  2359808     ['block5_conv1[0][0]']           \n",
            "                                                                                                  \n",
            " block5_conv3 (Conv2D)          (None, 14, 14, 512)  2359808     ['block5_conv2[0][0]']           \n",
            "                                                                                                  \n",
            " block5_conv4 (Conv2D)          (None, 14, 14, 512)  2359808     ['block5_conv3[0][0]']           \n",
            "                                                                                                  \n",
            " block5_pool (MaxPooling2D)     (None, 7, 7, 512)    0           ['block5_conv4[0][0]']           \n",
            "                                                                                                  \n",
            " batch_normalization (BatchNorm  (None, 7, 7, 512)   2048        ['block5_pool[0][0]']            \n",
            " alization)                                                                                       \n",
            "                                                                                                  \n",
            " conv2d (Conv2D)                (None, 7, 7, 42)     21546       ['batch_normalization[0][0]']    \n",
            "                                                                                                  \n",
            " conv2d_1 (Conv2D)              (None, 7, 7, 84)     387156      ['batch_normalization[0][0]']    \n",
            "                                                                                                  \n",
            " conv2d_2 (Conv2D)              (None, 7, 7, 130)    1664130     ['batch_normalization[0][0]']    \n",
            "                                                                                                  \n",
            " concatenate (Concatenate)      (None, 7, 7, 256)    0           ['conv2d[0][0]',                 \n",
            "                                                                  'conv2d_1[0][0]',               \n",
            "                                                                  'conv2d_2[0][0]']               \n",
            "                                                                                                  \n",
            " conv2d_3 (Conv2D)              (None, 7, 7, 42)     10794       ['concatenate[0][0]']            \n",
            "                                                                                                  \n",
            " conv2d_4 (Conv2D)              (None, 7, 7, 84)     193620      ['concatenate[0][0]']            \n",
            "                                                                                                  \n",
            " conv2d_5 (Conv2D)              (None, 7, 7, 130)    832130      ['concatenate[0][0]']            \n",
            "                                                                                                  \n",
            " concatenate_1 (Concatenate)    (None, 7, 7, 256)    0           ['conv2d_3[0][0]',               \n",
            "                                                                  'conv2d_4[0][0]',               \n",
            "                                                                  'conv2d_5[0][0]']               \n",
            "                                                                                                  \n",
            " global_max_pooling2d (GlobalMa  (None, 256)         0           ['concatenate_1[0][0]']          \n",
            " xPooling2D)                                                                                      \n",
            "                                                                                                  \n",
            " pred (Dense)                   (None, 3)            771         ['global_max_pooling2d[0][0]']   \n",
            "                                                                                                  \n",
            "==================================================================================================\n",
            "Total params: 23,136,579\n",
            "Trainable params: 23,135,555\n",
            "Non-trainable params: 1,024\n",
            "__________________________________________________________________________________________________\n"
          ]
        }
      ]
    },
    {
      "cell_type": "code",
      "source": [
        "#Freezing top Layers for transfer Learning\n",
        "for layer in new_model.layers:\n",
        "  layer.trainable = False\n",
        "  if 'block4_pool' in layer.name:\n",
        "    break"
      ],
      "metadata": {
        "id": "iotSoSyOFHG1"
      },
      "execution_count": null,
      "outputs": []
    },
    {
      "cell_type": "markdown",
      "source": [
        "##Proses Training"
      ],
      "metadata": {
        "id": "fgkuLCN5FiUP"
      }
    },
    {
      "cell_type": "code",
      "source": [
        "new_model.compile(optimizer = 'adam', loss= 'sparse_categorical_crossentropy', metrics=['accuracy'])"
      ],
      "metadata": {
        "id": "bCZ3gDKvFh-x"
      },
      "execution_count": null,
      "outputs": []
    },
    {
      "cell_type": "code",
      "source": [
        "logdir = 'logs'\n",
        "tensorboard_callback = tf.keras.callbacks.TensorBoard(log_dir=logdir)"
      ],
      "metadata": {
        "id": "zDJBfaVCFmxd"
      },
      "execution_count": null,
      "outputs": []
    },
    {
      "cell_type": "code",
      "source": [
        "hist1 = new_model.fit(train, epochs=10, validation_data=val, callbacks=[tensorboard_callback])"
      ],
      "metadata": {
        "colab": {
          "base_uri": "https://localhost:8080/"
        },
        "id": "pAWfdDkFFoQR",
        "outputId": "2fca4084-490f-4f5b-d4ea-2bd977ba5e6d"
      },
      "execution_count": null,
      "outputs": [
        {
          "output_type": "stream",
          "name": "stdout",
          "text": [
            "Epoch 1/10\n",
            "37/37 [==============================] - 42s 813ms/step - loss: 0.8467 - accuracy: 0.6875 - val_loss: 18.0089 - val_accuracy: 0.3323\n",
            "Epoch 2/10\n",
            "37/37 [==============================] - 12s 310ms/step - loss: 0.2558 - accuracy: 0.9282 - val_loss: 7.9607 - val_accuracy: 0.3513\n",
            "Epoch 3/10\n",
            "37/37 [==============================] - 11s 302ms/step - loss: 0.1623 - accuracy: 0.9561 - val_loss: 8.1151 - val_accuracy: 0.5158\n",
            "Epoch 4/10\n",
            "37/37 [==============================] - 12s 310ms/step - loss: 0.2924 - accuracy: 0.9417 - val_loss: 2.3020 - val_accuracy: 0.6044\n",
            "Epoch 5/10\n",
            "37/37 [==============================] - 12s 322ms/step - loss: 0.1898 - accuracy: 0.9586 - val_loss: 2.0641 - val_accuracy: 0.6741\n",
            "Epoch 6/10\n",
            "37/37 [==============================] - 12s 310ms/step - loss: 0.1998 - accuracy: 0.9527 - val_loss: 0.3762 - val_accuracy: 0.8829\n",
            "Epoch 7/10\n",
            "37/37 [==============================] - 14s 374ms/step - loss: 0.2517 - accuracy: 0.9527 - val_loss: 5.7461 - val_accuracy: 0.6076\n",
            "Epoch 8/10\n",
            "37/37 [==============================] - 14s 380ms/step - loss: 0.1296 - accuracy: 0.9730 - val_loss: 0.7031 - val_accuracy: 0.8639\n",
            "Epoch 9/10\n",
            "37/37 [==============================] - 14s 381ms/step - loss: 0.0453 - accuracy: 0.9840 - val_loss: 0.1012 - val_accuracy: 0.9715\n",
            "Epoch 10/10\n",
            "37/37 [==============================] - 14s 377ms/step - loss: 0.0402 - accuracy: 0.9916 - val_loss: 0.2732 - val_accuracy: 0.9272\n"
          ]
        }
      ]
    },
    {
      "cell_type": "code",
      "source": [
        "fig = plt.figure()\n",
        "plt.plot(hist1.history['loss'], color='teal', label='loss')\n",
        "plt.plot(hist1.history['val_loss'], color='red', label='val_loss')\n",
        "fig.suptitle('Loss', fontsize=20)\n",
        "plt.legend(loc=\"upper left\")\n",
        "plt.ylim(0, 1.5)\n",
        "plt.show()\n"
      ],
      "metadata": {
        "colab": {
          "base_uri": "https://localhost:8080/",
          "height": 294
        },
        "id": "x5GI9seOF0w2",
        "outputId": "5c99f14f-6572-4857-95ad-73699f44c341"
      },
      "execution_count": null,
      "outputs": [
        {
          "output_type": "display_data",
          "data": {
            "text/plain": [
              "<Figure size 432x288 with 1 Axes>"
            ],
            "image/png": "[encoded data removed]"
          },
          "metadata": {
            "needs_background": "light"
          }
        }
      ]
    },
    {
      "cell_type": "code",
      "source": [
        "fig = plt.figure()\n",
        "plt.plot(hist1.history['accuracy'], color='teal', label='accuracy')\n",
        "plt.plot(hist1.history['val_accuracy'], color='red', label='val_accuracy')\n",
        "fig.suptitle('Accuracy', fontsize=20)\n",
        "plt.legend(loc=\"upper left\")\n",
        "plt.ylim(0, 1)\n",
        "plt.show()"
      ],
      "metadata": {
        "colab": {
          "base_uri": "https://localhost:8080/",
          "height": 294
        },
        "id": "03Ck5mxyF2lr",
        "outputId": "850c9143-9c55-4b0d-8dd6-9e41551ac0f7"
      },
      "execution_count": null,
      "outputs": [
        {
          "output_type": "display_data",
          "data": {
            "text/plain": [
              "<Figure size 432x288 with 1 Axes>"
            ],
            "image/png": "[encoded data removed]"
          },
          "metadata": {
            "needs_background": "light"
          }
        }
      ]
    },
    {
      "cell_type": "code",
      "source": [
        "yhat = new_model.predict(X_test)"
      ],
      "metadata": {
        "colab": {
          "base_uri": "https://localhost:8080/"
        },
        "id": "quHPm6JHF4FG",
        "outputId": "29c8b28f-5dd9-4049-dad1-fab04464c498"
      },
      "execution_count": null,
      "outputs": [
        {
          "output_type": "stream",
          "name": "stdout",
          "text": [
            "5/5 [==============================] - 6s 1s/step\n"
          ]
        }
      ]
    },
    {
      "cell_type": "code",
      "source": [
        "y_prediction = []\n",
        "for i in tqdm(range(len(yhat))):\n",
        "  result = np.argmax(yhat[i], axis=-1)\n",
        "  y_prediction.append(str(result))"
      ],
      "metadata": {
        "colab": {
          "base_uri": "https://localhost:8080/"
        },
        "id": "xT3I-QBHF5cq",
        "outputId": "9872e3c9-5115-40e9-d6f2-0879d4fcf698"
      },
      "execution_count": null,
      "outputs": [
        {
          "output_type": "stream",
          "name": "stderr",
          "text": [
            "100%|██████████| 150/150 [00:00<00:00, 162485.95it/s]\n"
          ]
        }
      ]
    },
    {
      "cell_type": "code",
      "source": [
        "from sklearn.metrics import classification_report"
      ],
      "metadata": {
        "id": "wyPFaFZHF6qb"
      },
      "execution_count": null,
      "outputs": []
    },
    {
      "cell_type": "code",
      "source": [
        "print(classification_report(y_test, y_prediction))"
      ],
      "metadata": {
        "colab": {
          "base_uri": "https://localhost:8080/"
        },
        "id": "H4U1HzjJF8BR",
        "outputId": "658b6dc7-0821-40f6-b044-377a8ccb443e"
      },
      "execution_count": null,
      "outputs": [
        {
          "output_type": "stream",
          "name": "stdout",
          "text": [
            "              precision    recall  f1-score   support\n",
            "\n",
            "           0       0.88      0.70      0.78        50\n",
            "           1       0.00      0.00      0.00        50\n",
            "           2       0.45      0.98      0.61        50\n",
            "\n",
            "    accuracy                           0.56       150\n",
            "   macro avg       0.44      0.56      0.46       150\n",
            "weighted avg       0.44      0.56      0.46       150\n",
            "\n"
          ]
        },
        {
          "output_type": "stream",
          "name": "stderr",
          "text": [
            "/usr/local/lib/python3.8/dist-packages/sklearn/metrics/_classification.py:1318: UndefinedMetricWarning: Precision and F-score are ill-defined and being set to 0.0 in labels with no predicted samples. Use `zero_division` parameter to control this behavior.\n",
            "  _warn_prf(average, modifier, msg_start, len(result))\n",
            "/usr/local/lib/python3.8/dist-packages/sklearn/metrics/_classification.py:1318: UndefinedMetricWarning: Precision and F-score are ill-defined and being set to 0.0 in labels with no predicted samples. Use `zero_division` parameter to control this behavior.\n",
            "  _warn_prf(average, modifier, msg_start, len(result))\n",
            "/usr/local/lib/python3.8/dist-packages/sklearn/metrics/_classification.py:1318: UndefinedMetricWarning: Precision and F-score are ill-defined and being set to 0.0 in labels with no predicted samples. Use `zero_division` parameter to control this behavior.\n",
            "  _warn_prf(average, modifier, msg_start, len(result))\n"
          ]
        }
      ]
    },
    {
      "cell_type": "code",
      "source": [
        "from sklearn.metrics import confusion_matrix, ConfusionMatrixDisplay\n",
        "cm = confusion_matrix(y_test, y_prediction)\n",
        "disp = ConfusionMatrixDisplay(confusion_matrix=cm)\n",
        "disp.plot()"
      ],
      "metadata": {
        "colab": {
          "base_uri": "https://localhost:8080/",
          "height": 296
        },
        "id": "IWrqZKwAF_CI",
        "outputId": "00dceec6-35ec-4bc2-9980-b92571be23c5"
      },
      "execution_count": null,
      "outputs": [
        {
          "output_type": "execute_result",
          "data": {
            "text/plain": [
              "<sklearn.metrics._plot.confusion_matrix.ConfusionMatrixDisplay at 0x7fc406040310>"
            ]
          },
          "metadata": {},
          "execution_count": 44
        },
        {
          "output_type": "display_data",
          "data": {
            "text/plain": [
              "<Figure size 432x288 with 2 Axes>"
            ],
            "image/png": "[encoded data removed]"
          },
          "metadata": {
            "needs_background": "light"
          }
        }
      ]
    },
    {
      "cell_type": "markdown",
      "source": [
        "##Fine Tuning"
      ],
      "metadata": {
        "id": "jmOrq6XDGRhS"
      }
    },
    {
      "cell_type": "code",
      "source": [
        "#UnFreezing top Layers for transfer Learning dan dengan Lr rendah\n",
        "for layer in new_model.layers:\n",
        "  layer.trainable = True"
      ],
      "metadata": {
        "id": "2MYosqTeGS47"
      },
      "execution_count": null,
      "outputs": []
    },
    {
      "cell_type": "code",
      "source": [
        "new_model.summary()"
      ],
      "metadata": {
        "colab": {
          "base_uri": "https://localhost:8080/"
        },
        "id": "YSV7xIUPGV09",
        "outputId": "2327f200-3e13-4640-f72d-06f541265ade"
      },
      "execution_count": null,
      "outputs": [
        {
          "output_type": "stream",
          "name": "stdout",
          "text": [
            "Model: \"model\"\n",
            "__________________________________________________________________________________________________\n",
            " Layer (type)                   Output Shape         Param #     Connected to                     \n",
            "==================================================================================================\n",
            " input_1 (InputLayer)           [(None, 224, 224, 3  0           []                               \n",
            "                                )]                                                                \n",
            "                                                                                                  \n",
            " block1_conv1 (Conv2D)          (None, 224, 224, 64  1792        ['input_1[0][0]']                \n",
            "                                )                                                                 \n",
            "                                                                                                  \n",
            " block1_conv2 (Conv2D)          (None, 224, 224, 64  36928       ['block1_conv1[0][0]']           \n",
            "                                )                                                                 \n",
            "                                                                                                  \n",
            " block1_pool (MaxPooling2D)     (None, 112, 112, 64  0           ['block1_conv2[0][0]']           \n",
            "                                )                                                                 \n",
            "                                                                                                  \n",
            " block2_conv1 (Conv2D)          (None, 112, 112, 12  73856       ['block1_pool[0][0]']            \n",
            "                                8)                                                                \n",
            "                                                                                                  \n",
            " block2_conv2 (Conv2D)          (None, 112, 112, 12  147584      ['block2_conv1[0][0]']           \n",
            "                                8)                                                                \n",
            "                                                                                                  \n",
            " block2_pool (MaxPooling2D)     (None, 56, 56, 128)  0           ['block2_conv2[0][0]']           \n",
            "                                                                                                  \n",
            " block3_conv1 (Conv2D)          (None, 56, 56, 256)  295168      ['block2_pool[0][0]']            \n",
            "                                                                                                  \n",
            " block3_conv2 (Conv2D)          (None, 56, 56, 256)  590080      ['block3_conv1[0][0]']           \n",
            "                                                                                                  \n",
            " block3_conv3 (Conv2D)          (None, 56, 56, 256)  590080      ['block3_conv2[0][0]']           \n",
            "                                                                                                  \n",
            " block3_conv4 (Conv2D)          (None, 56, 56, 256)  590080      ['block3_conv3[0][0]']           \n",
            "                                                                                                  \n",
            " block3_pool (MaxPooling2D)     (None, 28, 28, 256)  0           ['block3_conv4[0][0]']           \n",
            "                                                                                                  \n",
            " block4_conv1 (Conv2D)          (None, 28, 28, 512)  1180160     ['block3_pool[0][0]']            \n",
            "                                                                                                  \n",
            " block4_conv2 (Conv2D)          (None, 28, 28, 512)  2359808     ['block4_conv1[0][0]']           \n",
            "                                                                                                  \n",
            " block4_conv3 (Conv2D)          (None, 28, 28, 512)  2359808     ['block4_conv2[0][0]']           \n",
            "                                                                                                  \n",
            " block4_conv4 (Conv2D)          (None, 28, 28, 512)  2359808     ['block4_conv3[0][0]']           \n",
            "                                                                                                  \n",
            " block4_pool (MaxPooling2D)     (None, 14, 14, 512)  0           ['block4_conv4[0][0]']           \n",
            "                                                                                                  \n",
            " block5_conv1 (Conv2D)          (None, 14, 14, 512)  2359808     ['block4_pool[0][0]']            \n",
            "                                                                                                  \n",
            " block5_conv2 (Conv2D)          (None, 14, 14, 512)  2359808     ['block5_conv1[0][0]']           \n",
            "                                                                                                  \n",
            " block5_conv3 (Conv2D)          (None, 14, 14, 512)  2359808     ['block5_conv2[0][0]']           \n",
            "                                                                                                  \n",
            " block5_conv4 (Conv2D)          (None, 14, 14, 512)  2359808     ['block5_conv3[0][0]']           \n",
            "                                                                                                  \n",
            " block5_pool (MaxPooling2D)     (None, 7, 7, 512)    0           ['block5_conv4[0][0]']           \n",
            "                                                                                                  \n",
            " batch_normalization (BatchNorm  (None, 7, 7, 512)   2048        ['block5_pool[0][0]']            \n",
            " alization)                                                                                       \n",
            "                                                                                                  \n",
            " conv2d (Conv2D)                (None, 7, 7, 42)     21546       ['batch_normalization[0][0]']    \n",
            "                                                                                                  \n",
            " conv2d_1 (Conv2D)              (None, 7, 7, 84)     387156      ['batch_normalization[0][0]']    \n",
            "                                                                                                  \n",
            " conv2d_2 (Conv2D)              (None, 7, 7, 130)    1664130     ['batch_normalization[0][0]']    \n",
            "                                                                                                  \n",
            " concatenate (Concatenate)      (None, 7, 7, 256)    0           ['conv2d[0][0]',                 \n",
            "                                                                  'conv2d_1[0][0]',               \n",
            "                                                                  'conv2d_2[0][0]']               \n",
            "                                                                                                  \n",
            " conv2d_3 (Conv2D)              (None, 7, 7, 42)     10794       ['concatenate[0][0]']            \n",
            "                                                                                                  \n",
            " conv2d_4 (Conv2D)              (None, 7, 7, 84)     193620      ['concatenate[0][0]']            \n",
            "                                                                                                  \n",
            " conv2d_5 (Conv2D)              (None, 7, 7, 130)    832130      ['concatenate[0][0]']            \n",
            "                                                                                                  \n",
            " concatenate_1 (Concatenate)    (None, 7, 7, 256)    0           ['conv2d_3[0][0]',               \n",
            "                                                                  'conv2d_4[0][0]',               \n",
            "                                                                  'conv2d_5[0][0]']               \n",
            "                                                                                                  \n",
            " global_max_pooling2d (GlobalMa  (None, 256)         0           ['concatenate_1[0][0]']          \n",
            " xPooling2D)                                                                                      \n",
            "                                                                                                  \n",
            " pred (Dense)                   (None, 3)            771         ['global_max_pooling2d[0][0]']   \n",
            "                                                                                                  \n",
            "==================================================================================================\n",
            "Total params: 23,136,579\n",
            "Trainable params: 23,135,555\n",
            "Non-trainable params: 1,024\n",
            "__________________________________________________________________________________________________\n"
          ]
        }
      ]
    },
    {
      "cell_type": "code",
      "source": [
        "new_model.compile(optimizer = 'adam', loss= 'sparse_categorical_crossentropy', metrics=['accuracy'])"
      ],
      "metadata": {
        "id": "VVZmOpcXGY6B"
      },
      "execution_count": null,
      "outputs": []
    },
    {
      "cell_type": "code",
      "source": [
        "hist1 = new_model.fit(train, epochs=10, validation_data=val, callbacks=[tensorboard_callback])"
      ],
      "metadata": {
        "colab": {
          "base_uri": "https://localhost:8080/"
        },
        "id": "nS1jVqEBGZ0h",
        "outputId": "e1612d38-cc03-4030-9a8a-558583e35dd7"
      },
      "execution_count": null,
      "outputs": [
        {
          "output_type": "stream",
          "name": "stdout",
          "text": [
            "Epoch 1/10\n",
            "37/37 [==============================] - 25s 633ms/step - loss: 0.8896 - accuracy: 0.6833 - val_loss: 66.2393 - val_accuracy: 0.3006\n",
            "Epoch 2/10\n",
            "37/37 [==============================] - 25s 679ms/step - loss: 0.4851 - accuracy: 0.8167 - val_loss: 4.9385 - val_accuracy: 0.3228\n",
            "Epoch 3/10\n",
            "37/37 [==============================] - 25s 663ms/step - loss: 0.2068 - accuracy: 0.9223 - val_loss: 8.2123 - val_accuracy: 0.3228\n",
            "Epoch 4/10\n",
            "37/37 [==============================] - 26s 691ms/step - loss: 0.1623 - accuracy: 0.9502 - val_loss: 0.7834 - val_accuracy: 0.6835\n",
            "Epoch 5/10\n",
            "37/37 [==============================] - 22s 603ms/step - loss: 0.1224 - accuracy: 0.9569 - val_loss: 53.6928 - val_accuracy: 0.3038\n",
            "Epoch 6/10\n",
            "37/37 [==============================] - 22s 597ms/step - loss: 0.1711 - accuracy: 0.9468 - val_loss: 371.5511 - val_accuracy: 0.4335\n",
            "Epoch 7/10\n",
            "37/37 [==============================] - 23s 605ms/step - loss: 0.1284 - accuracy: 0.9628 - val_loss: 116.0119 - val_accuracy: 0.4177\n",
            "Epoch 8/10\n",
            "37/37 [==============================] - 26s 689ms/step - loss: 0.1311 - accuracy: 0.9645 - val_loss: 4.1953 - val_accuracy: 0.3987\n",
            "Epoch 9/10\n",
            "37/37 [==============================] - 22s 594ms/step - loss: 0.2208 - accuracy: 0.9434 - val_loss: 2.3428 - val_accuracy: 0.5696\n",
            "Epoch 10/10\n",
            "37/37 [==============================] - 26s 690ms/step - loss: 0.1629 - accuracy: 0.9519 - val_loss: 0.4920 - val_accuracy: 0.8481\n"
          ]
        }
      ]
    },
    {
      "cell_type": "code",
      "source": [
        "fig = plt.figure()\n",
        "plt.plot(hist1.history['loss'], color='teal', label='loss')\n",
        "plt.plot(hist1.history['val_loss'], color='red', label='val_loss')\n",
        "fig.suptitle('Loss', fontsize=20)\n",
        "plt.legend(loc=\"upper left\")\n",
        "plt.ylim(0, 1.5)\n",
        "plt.show()\n"
      ],
      "metadata": {
        "colab": {
          "base_uri": "https://localhost:8080/",
          "height": 294
        },
        "id": "xdfKNE10Gcn6",
        "outputId": "2c5b2d09-ae7c-4b5e-9d3a-636c73b941e5"
      },
      "execution_count": null,
      "outputs": [
        {
          "output_type": "display_data",
          "data": {
            "text/plain": [
              "<Figure size 432x288 with 1 Axes>"
            ],
            "image/png": "[encoded data removed]"
          },
          "metadata": {
            "needs_background": "light"
          }
        }
      ]
    },
    {
      "cell_type": "code",
      "source": [
        "fig = plt.figure()\n",
        "plt.plot(hist1.history['accuracy'], color='teal', label='loss')\n",
        "plt.plot(hist1.history['val_accuracy'], color='red', label='val_loss')\n",
        "fig.suptitle('Loss', fontsize=20)\n",
        "plt.legend(loc=\"upper left\")\n",
        "plt.ylim(0, 1.5)\n",
        "plt.show()\n"
      ],
      "metadata": {
        "colab": {
          "base_uri": "https://localhost:8080/",
          "height": 294
        },
        "id": "zw3Lwt3eGdNe",
        "outputId": "ed522d7a-3586-45cb-df40-35b1e997b0a6"
      },
      "execution_count": null,
      "outputs": [
        {
          "output_type": "display_data",
          "data": {
            "text/plain": [
              "<Figure size 432x288 with 1 Axes>"
            ],
            "image/png": "[encoded data removed]"
          },
          "metadata": {
            "needs_background": "light"
          }
        }
      ]
    },
    {
      "cell_type": "code",
      "source": [
        "yhat = new_model.predict(X_test)"
      ],
      "metadata": {
        "colab": {
          "base_uri": "https://localhost:8080/"
        },
        "id": "fgGM0IOLGj1u",
        "outputId": "9ec9f6b8-5f5b-4936-ffad-692e18dad2c7"
      },
      "execution_count": null,
      "outputs": [
        {
          "output_type": "stream",
          "name": "stdout",
          "text": [
            "5/5 [==============================] - 1s 157ms/step\n"
          ]
        }
      ]
    },
    {
      "cell_type": "code",
      "source": [
        "y_prediction = []\n",
        "for i in tqdm(range(len(yhat))):\n",
        "  result = np.argmax(yhat[i], axis=-1)\n",
        "  y_prediction.append(str(result))"
      ],
      "metadata": {
        "colab": {
          "base_uri": "https://localhost:8080/"
        },
        "id": "zJ_dHifnGlfS",
        "outputId": "fbf65ff8-3e43-4e62-e1a9-ea3901e8c995"
      },
      "execution_count": null,
      "outputs": [
        {
          "output_type": "stream",
          "name": "stderr",
          "text": [
            "100%|██████████| 150/150 [00:00<00:00, 198468.64it/s]\n"
          ]
        }
      ]
    },
    {
      "cell_type": "code",
      "source": [
        "from sklearn.metrics import classification_report"
      ],
      "metadata": {
        "id": "HHsSlXkGGmx6"
      },
      "execution_count": null,
      "outputs": []
    },
    {
      "cell_type": "code",
      "source": [
        "print(classification_report(y_test, y_prediction))"
      ],
      "metadata": {
        "colab": {
          "base_uri": "https://localhost:8080/"
        },
        "id": "QZGaYENaGn8G",
        "outputId": "fad68946-c7da-4efc-b7f1-da596108182d"
      },
      "execution_count": null,
      "outputs": [
        {
          "output_type": "stream",
          "name": "stdout",
          "text": [
            "              precision    recall  f1-score   support\n",
            "\n",
            "           0       0.00      0.00      0.00        50\n",
            "           1       0.00      0.00      0.00        50\n",
            "           2       0.33      1.00      0.50        50\n",
            "\n",
            "    accuracy                           0.33       150\n",
            "   macro avg       0.11      0.33      0.17       150\n",
            "weighted avg       0.11      0.33      0.17       150\n",
            "\n"
          ]
        },
        {
          "output_type": "stream",
          "name": "stderr",
          "text": [
            "/usr/local/lib/python3.8/dist-packages/sklearn/metrics/_classification.py:1318: UndefinedMetricWarning: Precision and F-score are ill-defined and being set to 0.0 in labels with no predicted samples. Use `zero_division` parameter to control this behavior.\n",
            "  _warn_prf(average, modifier, msg_start, len(result))\n",
            "/usr/local/lib/python3.8/dist-packages/sklearn/metrics/_classification.py:1318: UndefinedMetricWarning: Precision and F-score are ill-defined and being set to 0.0 in labels with no predicted samples. Use `zero_division` parameter to control this behavior.\n",
            "  _warn_prf(average, modifier, msg_start, len(result))\n",
            "/usr/local/lib/python3.8/dist-packages/sklearn/metrics/_classification.py:1318: UndefinedMetricWarning: Precision and F-score are ill-defined and being set to 0.0 in labels with no predicted samples. Use `zero_division` parameter to control this behavior.\n",
            "  _warn_prf(average, modifier, msg_start, len(result))\n"
          ]
        }
      ]
    },
    {
      "cell_type": "code",
      "source": [
        "from sklearn.metrics import confusion_matrix, ConfusionMatrixDisplay\n",
        "cm = confusion_matrix(y_test, y_prediction)\n",
        "disp = ConfusionMatrixDisplay(confusion_matrix=cm)\n",
        "disp.plot()"
      ],
      "metadata": {
        "colab": {
          "base_uri": "https://localhost:8080/",
          "height": 300
        },
        "id": "gQVznamIGpJw",
        "outputId": "9f8233e1-9978-44c9-b09c-68ebe370f9bd"
      },
      "execution_count": null,
      "outputs": [
        {
          "output_type": "execute_result",
          "data": {
            "text/plain": [
              "<sklearn.metrics._plot.confusion_matrix.ConfusionMatrixDisplay at 0x7fc3b2068520>"
            ]
          },
          "metadata": {},
          "execution_count": 64
        },
        {
          "output_type": "display_data",
          "data": {
            "text/plain": [
              "<Figure size 432x288 with 2 Axes>"
            ],
            "image/png": "[encoded data removed]"
          },
          "metadata": {
            "needs_background": "light"
          }
        }
      ]
    }
  ]
}